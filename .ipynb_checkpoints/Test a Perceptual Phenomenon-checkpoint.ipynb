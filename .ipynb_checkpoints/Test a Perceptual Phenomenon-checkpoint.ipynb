{
 "cells": [
  {
   "cell_type": "markdown",
   "metadata": {},
   "source": [
    "### Analyzing the Stroop Effect\n",
    "Perform the analysis in the space below. Remember to follow [the instructions](https://docs.google.com/document/d/1-OkpZLjG_kX9J6LIQ5IltsqMzVWjh36QpnP2RYpVdPU/pub?embedded=True) and review the [project rubric](https://review.udacity.com/#!/rubrics/71/view) before submitting. Once you've completed the analysis and write-up, download this file as a PDF or HTML file, upload that PDF/HTML into the workspace here (click on the orange Jupyter icon in the upper left then Upload), then use the Submit Project button at the bottom of this page. This will create a zip file containing both this .ipynb doc and the PDF/HTML doc that will be submitted for your project.\n",
    "\n",
    "\n",
    "(1) What is the independent variable? What is the dependent variable?"
   ]
  },
  {
   "cell_type": "markdown",
   "metadata": {},
   "source": [
    "* There are 2 independent variables - a congruent words condition, and an incongruent words condition. \n",
    "\n",
    "* The dependent variable is time taken to name the ink colors in equally-sized Congruent & Incongruent lists."
   ]
  },
  {
   "cell_type": "markdown",
   "metadata": {},
   "source": [
    "(2) What is an appropriate set of hypotheses for this task? Specify your null and alternative hypotheses, and clearly define any notation used. Justify your choices."
   ]
  },
  {
   "cell_type": "markdown",
   "metadata": {},
   "source": [
    "In a dependent samples t-test, each subject or entity is measured twice, resulting in pairs of observations. Since same set of participants will go through and record time for same set of congruent & incongruent words, resulting in pairs of observations , mean time should be used to compare and dependent samples t-test should be performed. \n",
    "\n",
    "\n",
    "**Null Hypothesis $H_{0}$** - No difference in mean time taken to read congruent and incongruent list\n",
    "\n",
    "**Alternate Hypothesis $H_{1}$** - Mean time to read incongruent list is greater than mean time to read congruent list\n",
    "\n",
    " * $H_{0}$ : $μ_{ic}$ = $μ_{c}$ \n",
    "   \n",
    " * $H_{1}$ : $μ_{ic}$ > $μ_{c}$\n",
    " \n",
    " Where $μ_{ic}$ is mean time taken to read incongruent list and $μ_{c}$ is mean time taken to read congruent list\n",
    " "
   ]
  },
  {
   "cell_type": "markdown",
   "metadata": {},
   "source": [
    "(3) Report some descriptive statistics regarding this dataset. Include at least one measure of central tendency and at least one measure of variability. The name of the data file is 'stroopdata.csv'."
   ]
  },
  {
   "cell_type": "markdown",
   "metadata": {},
   "source": [
    "**Import required libraries**"
   ]
  },
  {
   "cell_type": "code",
   "execution_count": 217,
   "metadata": {},
   "outputs": [],
   "source": [
    "import matplotlib\n",
    "import numpy as np\n",
    "import pandas as pd\n",
    "from scipy import stats\n",
    "import matplotlib.pyplot as plt\n"
   ]
  },
  {
   "cell_type": "markdown",
   "metadata": {},
   "source": [
    "**Load .csv file to read dataset**"
   ]
  },
  {
   "cell_type": "code",
   "execution_count": 218,
   "metadata": {},
   "outputs": [],
   "source": [
    "# Import csv file\n",
    "df=pd.read_csv('stroopdata.csv')\n"
   ]
  },
  {
   "cell_type": "markdown",
   "metadata": {},
   "source": [
    "**Print information about given Dataset**"
   ]
  },
  {
   "cell_type": "code",
   "execution_count": 219,
   "metadata": {},
   "outputs": [
    {
     "name": "stdout",
     "output_type": "stream",
     "text": [
      "Number of rows in dataset ::  24\n",
      "Number of columns in dataset ::  2\n",
      "dataset information :: \n",
      "<class 'pandas.core.frame.DataFrame'>\n",
      "RangeIndex: 24 entries, 0 to 23\n",
      "Data columns (total 2 columns):\n",
      "Congruent      24 non-null float64\n",
      "Incongruent    24 non-null float64\n",
      "dtypes: float64(2)\n",
      "memory usage: 464.0 bytes\n"
     ]
    }
   ],
   "source": [
    "print('Number of rows in dataset :: ',df.shape[0])\n",
    "print('Number of columns in dataset :: ',df.shape[1])\n",
    "#find no of columns and non-empty fields in dataset\n",
    "print('dataset information :: ')\n",
    "df.info()"
   ]
  },
  {
   "cell_type": "markdown",
   "metadata": {},
   "source": [
    "** There are 2 columns in given dataset: Congruent , Incongruent and It has 24 rows of data which means there are 24 individual participants . There are no non-null values which means Both columns are of equal size and no need to remove rows with atleast one null value. Data type for storing Time taken to read Congruent & Incongruent lists is float.**\n"
   ]
  },
  {
   "cell_type": "markdown",
   "metadata": {},
   "source": [
    "**Print few rows in Dataset**"
   ]
  },
  {
   "cell_type": "code",
   "execution_count": 220,
   "metadata": {},
   "outputs": [
    {
     "data": {
      "text/html": [
       "<div>\n",
       "<style scoped>\n",
       "    .dataframe tbody tr th:only-of-type {\n",
       "        vertical-align: middle;\n",
       "    }\n",
       "\n",
       "    .dataframe tbody tr th {\n",
       "        vertical-align: top;\n",
       "    }\n",
       "\n",
       "    .dataframe thead th {\n",
       "        text-align: right;\n",
       "    }\n",
       "</style>\n",
       "<table border=\"1\" class=\"dataframe\">\n",
       "  <thead>\n",
       "    <tr style=\"text-align: right;\">\n",
       "      <th></th>\n",
       "      <th>Congruent</th>\n",
       "      <th>Incongruent</th>\n",
       "    </tr>\n",
       "  </thead>\n",
       "  <tbody>\n",
       "    <tr>\n",
       "      <th>0</th>\n",
       "      <td>12.079</td>\n",
       "      <td>19.278</td>\n",
       "    </tr>\n",
       "    <tr>\n",
       "      <th>1</th>\n",
       "      <td>16.791</td>\n",
       "      <td>18.741</td>\n",
       "    </tr>\n",
       "    <tr>\n",
       "      <th>2</th>\n",
       "      <td>9.564</td>\n",
       "      <td>21.214</td>\n",
       "    </tr>\n",
       "    <tr>\n",
       "      <th>3</th>\n",
       "      <td>8.630</td>\n",
       "      <td>15.687</td>\n",
       "    </tr>\n",
       "    <tr>\n",
       "      <th>4</th>\n",
       "      <td>14.669</td>\n",
       "      <td>22.803</td>\n",
       "    </tr>\n",
       "  </tbody>\n",
       "</table>\n",
       "</div>"
      ],
      "text/plain": [
       "   Congruent  Incongruent\n",
       "0     12.079       19.278\n",
       "1     16.791       18.741\n",
       "2      9.564       21.214\n",
       "3      8.630       15.687\n",
       "4     14.669       22.803"
      ]
     },
     "execution_count": 220,
     "metadata": {},
     "output_type": "execute_result"
    }
   ],
   "source": [
    "df.head()"
   ]
  },
  {
   "cell_type": "markdown",
   "metadata": {},
   "source": [
    "**Calculating central tendency & measure of variability **\n",
    " \n",
    "* The mean, median and mode are used to measure central tendency of data set\n",
    "* The Standard deviation, quantile Range and variance are used to measures variability of data set\n"
   ]
  },
  {
   "cell_type": "code",
   "execution_count": 221,
   "metadata": {},
   "outputs": [
    {
     "name": "stdout",
     "output_type": "stream",
     "text": [
      "Congruent Mean               ::  14.051125000000004   Incongruent Mean   :: 22.01591666666667\n",
      "Congruent Median             ::  14.3565              Incongruent Median :: 21.0175\n",
      "Congruent Mode               ::  [8.63]               Incongruent Mode   ::  [15.687]\n",
      "\n",
      "Congruent Standard Deviation ::  3.4844157127666326    Incongruent Standard Deviation :: 4.696055134513317\n",
      "\n",
      "Quantile Range :: \n",
      "      Congruent  Incongruent\n",
      "0.25   11.89525     18.71675\n",
      "0.50   14.35650     21.01750\n",
      "0.75   16.20075     24.05150\n",
      "\n",
      "Congruent Variance ::  12.669029070652174             Incongruent Variance ::  23.011757036231884\n"
     ]
    }
   ],
   "source": [
    "\n",
    "Congruent_data = df['Congruent']\n",
    "Incongruent_data = df['Incongruent']\n",
    "C_Mean=np.mean(Congruent_data)\n",
    "IC_Mean=np.mean(Incongruent_data)\n",
    "C_Median=np.median(Congruent_data)\n",
    "IC_Median=np.median(Incongruent_data)\n",
    "C_Mode=stats.mode(Congruent_data)[0]\n",
    "IC_Mode=stats.mode(Incongruent_data)[0]\n",
    "C_Std_dev=np.std(Congruent_data)\n",
    "IC_Std_dev=np.std(Incongruent_data)\n",
    "C_Variance=Congruent_data.var()\n",
    "IC_Variance=Incongruent_data.var()\n",
    "\n",
    "print('Congruent Mean               :: ',C_Mean,'  Incongruent Mean   ::',IC_Mean)\n",
    "print('Congruent Median             :: ',C_Median,'             Incongruent Median ::',IC_Median)\n",
    "print('Congruent Mode               :: ',C_Mode,'              Incongruent Mode   :: ',IC_Mode)\n",
    "print('\\nCongruent Standard Deviation :: ',C_Std_dev,'   Incongruent Standard Deviation ::',IC_Std_dev)\n",
    "print('\\nQuantile Range :: ')\n",
    "print(df.quantile([.25, .5, .75]))\n",
    "print('\\nCongruent Variance :: ',C_Variance,'            Incongruent Variance :: ',IC_Variance)"
   ]
  },
  {
   "cell_type": "markdown",
   "metadata": {},
   "source": [
    "(4) Provide one or two visualizations that show the distribution of the sample data. Write one or two sentences noting what you observe about the plot or plots."
   ]
  },
  {
   "cell_type": "code",
   "execution_count": 222,
   "metadata": {},
   "outputs": [
    {
     "data": {
      "image/png": "[encoded data removed]",
      "text/plain": [
       "<matplotlib.figure.Figure at 0x1a19efef98>"
      ]
     },
     "metadata": {},
     "output_type": "display_data"
    }
   ],
   "source": [
    "# Build the visualizations here\n",
    "plt.figure(figsize=(15,7))\n",
    "plt.hist([Congruent_data, Incongruent_data], color=['blue', 'red'])\n",
    "legend = ['Congruent', 'Incongruent']\n",
    "plt.xlabel('Time to read List (seconds)')\n",
    "plt.ylabel('Frequency')\n",
    "plt.xticks(range(0,35))\n",
    "plt.legend(legend)\n",
    "plt.title('Frequency chart of Time taken to read Congruent & Incongruent Lists')\n",
    "plt.show()\n",
    "\n"
   ]
  },
  {
   "cell_type": "markdown",
   "metadata": {},
   "source": [
    "* From above figure we can see that both plots are skewed. Incongruent list is taking more time than Congruent list\n",
    "* Congruent List read time is centered in between 14 to 15.5 seconds\n",
    "* Incongruent List read time is centered in between 18 to 19 seconds\n",
    "* Least frequency for Congruent list is around 20 seconds\n",
    "* Least frequency for Incongruent list is around 16 seconds"
   ]
  },
  {
   "cell_type": "markdown",
   "metadata": {},
   "source": [
    "(5)  Now, perform the statistical test and report your results. What is your confidence level or Type I error associated with your test? What is your conclusion regarding the hypotheses you set up? Did the results match up with your expectations? **Hint:**  Think about what is being measured on each individual, and what statistic best captures how an individual reacts in each environment."
   ]
  },
  {
   "cell_type": "markdown",
   "metadata": {},
   "source": [
    "Calculate Mean Difference of Congruent & Incongruent List "
   ]
  },
  {
   "cell_type": "code",
   "execution_count": 223,
   "metadata": {},
   "outputs": [
    {
     "name": "stdout",
     "output_type": "stream",
     "text": [
      "Mean Difference ::  7.964791666666665\n"
     ]
    }
   ],
   "source": [
    "# Perform the statistical test here\n",
    "Mean_Diff= IC_Mean - C_Mean\n",
    "print('Mean Difference :: ',Mean_Diff)"
   ]
  },
  {
   "cell_type": "markdown",
   "metadata": {},
   "source": [
    "Calculate Standard deviation Difference of Congruent & Incongruent List "
   ]
  },
  {
   "cell_type": "code",
   "execution_count": 224,
   "metadata": {},
   "outputs": [
    {
     "name": "stdout",
     "output_type": "stream",
     "text": [
      "Standard Deviation Difference ::  4.864826910359056\n"
     ]
    }
   ],
   "source": [
    "# Perform the statistical test here\n",
    "Std_Dev_Diff=(Incongruent_data-Congruent_data).std()\n",
    "print('Standard Deviation Difference :: ',Std_Dev_Diff)"
   ]
  },
  {
   "cell_type": "markdown",
   "metadata": {},
   "source": [
    "\n",
    "\n",
    "$t_{statistic}$ is (Mean difference)/(Standard Deviation difference/square root of Dataset length))"
   ]
  },
  {
   "cell_type": "code",
   "execution_count": 225,
   "metadata": {},
   "outputs": [
    {
     "name": "stdout",
     "output_type": "stream",
     "text": [
      "t_statistic ::  8.020706944109955\n"
     ]
    }
   ],
   "source": [
    "t_statistic=Mean_Diff/(Std_Dev_Diff/np.sqrt(len(df)))\n",
    "print('t_statistic :: ',t_statistic)"
   ]
  },
  {
   "cell_type": "markdown",
   "metadata": {},
   "source": [
    "$t_{critical}$ value for a 90% confidence level and (no of participants-1) d.f.\n"
   ]
  },
  {
   "cell_type": "code",
   "execution_count": 226,
   "metadata": {},
   "outputs": [
    {
     "data": {
      "text/plain": [
       "1.3194602391408932"
      ]
     },
     "execution_count": 226,
     "metadata": {},
     "output_type": "execute_result"
    }
   ],
   "source": [
    "stats.t.ppf(.90, len(df)-1)"
   ]
  },
  {
   "cell_type": "markdown",
   "metadata": {},
   "source": [
    "From above analysis we can say that $t_{statistic}$ > $t_{critical}$ . So we can reject the Null Hypothesis $H_{0}$  that there is no difference in mean time taken to read congruent and incongruent list"
   ]
  },
  {
   "cell_type": "markdown",
   "metadata": {},
   "source": [
    "(6) Optional: What do you think is responsible for the effects observed? Can you think of an alternative or similar task that would result in a similar effect? Some research about the problem will be helpful for thinking about these two questions!"
   ]
  },
  {
   "cell_type": "markdown",
   "metadata": {},
   "source": [
    "* I think it takes more time to read list in incongruent words condition compared to congruent words condition because mismatch of name of the color and color of the word can cause high probability of errors compared to words of same name and color.\n",
    "* A similar task would be comparing time taken to complete a marathon without training and with training.with training anyone would perform slightly better than without training\n"
   ]
  }
 ],
 "metadata": {
  "kernelspec": {
   "display_name": "Python 3",
   "language": "python",
   "name": "python3"
  },
  "language_info": {
   "codemirror_mode": {
    "name": "ipython",
    "version": 3
   },
   "file_extension": ".py",
   "mimetype": "text/x-python",
   "name": "python",
   "nbconvert_exporter": "python",
   "pygments_lexer": "ipython3",
   "version": "3.6.4"
  }
 },
 "nbformat": 4,
 "nbformat_minor": 2
}
